{
 "cells": [
  {
   "cell_type": "code",
   "execution_count": 1,
   "id": "based-headline",
   "metadata": {},
   "outputs": [],
   "source": [
    "def mergeSort(nlist):\n",
    "    print(\"Splitting \",nlist)\n",
    "    if len(nlist)>1:\n",
    "        mid = len(nlist)//2\n",
    "        lefthalf = nlist[:mid]\n",
    "        righthalf = nlist[mid:]\n",
    "\n",
    "        mergeSort(lefthalf)\n",
    "        mergeSort(righthalf)\n",
    "        i=j=k=0       \n",
    "        while i < len(lefthalf) and j < len(righthalf):\n",
    "            if lefthalf[i] < righthalf[j]:\n",
    "                nlist[k]=lefthalf[i]\n",
    "                i=i+1\n",
    "            else:\n",
    "                nlist[k]=righthalf[j]\n",
    "                j=j+1\n",
    "            k=k+1\n",
    "\n",
    "        while i < len(lefthalf):\n",
    "            nlist[k]=lefthalf[i]\n",
    "            i=i+1\n",
    "            k=k+1\n",
    "\n",
    "        while j < len(righthalf):\n",
    "            nlist[k]=righthalf[j]\n",
    "            j=j+1\n",
    "            k=k+1\n",
    "    print(\"Merging \",nlist)"
   ]
  },
  {
   "cell_type": "code",
   "execution_count": 2,
   "id": "according-active",
   "metadata": {},
   "outputs": [
    {
     "name": "stdout",
     "output_type": "stream",
     "text": [
      "Splitting  [14, 46, 43, 27, 57, 41, 45, 21, 70, 1]\n",
      "Splitting  [14, 46, 43, 27, 57]\n",
      "Splitting  [14, 46]\n",
      "Splitting  [14]\n",
      "Merging  [14]\n",
      "Splitting  [46]\n",
      "Merging  [46]\n",
      "Merging  [14, 46]\n",
      "Splitting  [43, 27, 57]\n",
      "Splitting  [43]\n",
      "Merging  [43]\n",
      "Splitting  [27, 57]\n",
      "Splitting  [27]\n",
      "Merging  [27]\n",
      "Splitting  [57]\n",
      "Merging  [57]\n",
      "Merging  [27, 57]\n",
      "Merging  [27, 43, 57]\n",
      "Merging  [14, 27, 43, 46, 57]\n",
      "Splitting  [41, 45, 21, 70, 1]\n",
      "Splitting  [41, 45]\n",
      "Splitting  [41]\n",
      "Merging  [41]\n",
      "Splitting  [45]\n",
      "Merging  [45]\n",
      "Merging  [41, 45]\n",
      "Splitting  [21, 70, 1]\n",
      "Splitting  [21]\n",
      "Merging  [21]\n",
      "Splitting  [70, 1]\n",
      "Splitting  [70]\n",
      "Merging  [70]\n",
      "Splitting  [1]\n",
      "Merging  [1]\n",
      "Merging  [1, 70]\n",
      "Merging  [1, 21, 70]\n",
      "Merging  [1, 21, 41, 45, 70]\n",
      "Merging  [1, 14, 21, 27, 41, 43, 45, 46, 57, 70]\n"
     ]
    }
   ],
   "source": [
    "nlist = [14,46,43,27,57,41,45,21,70,1]\n",
    "mergeSort(nlist)"
   ]
  },
  {
   "cell_type": "code",
   "execution_count": 3,
   "id": "postal-spine",
   "metadata": {},
   "outputs": [
    {
     "name": "stdout",
     "output_type": "stream",
     "text": [
      "Sorted list:  [1, 14, 21, 27, 41, 43, 45, 46, 57, 70]\n"
     ]
    }
   ],
   "source": [
    "print(\"Sorted list: \",nlist)"
   ]
  }
 ],
 "metadata": {
  "kernelspec": {
   "display_name": "Python 3",
   "language": "python",
   "name": "python3"
  },
  "language_info": {
   "codemirror_mode": {
    "name": "ipython",
    "version": 3
   },
   "file_extension": ".py",
   "mimetype": "text/x-python",
   "name": "python",
   "nbconvert_exporter": "python",
   "pygments_lexer": "ipython3",
   "version": "3.8.8"
  }
 },
 "nbformat": 4,
 "nbformat_minor": 5
}
